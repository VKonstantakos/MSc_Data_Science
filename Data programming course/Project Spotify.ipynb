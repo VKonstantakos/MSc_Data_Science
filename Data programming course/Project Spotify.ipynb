{
 "cells": [
  {
   "cell_type": "code",
   "execution_count": null,
   "metadata": {},
   "outputs": [],
   "source": [
    "import numpy as np\n",
    "import pandas as pd\n",
    "import seaborn as sns\n",
    "import matplotlib.pyplot as plt\n",
    "sns.set()"
   ]
  },
  {
   "cell_type": "code",
   "execution_count": null,
   "metadata": {},
   "outputs": [],
   "source": [
    "from sklearn import model_selection\n",
    "from sklearn.feature_selection import RFE\n",
    "from sklearn.linear_model import LogisticRegression\n",
    "from sklearn.neighbors import KNeighborsClassifier\n",
    "from sklearn.svm import SVC\n",
    "from sklearn import tree\n",
    "from sklearn.ensemble import RandomForestClassifier, RandomForestRegressor"
   ]
  },
  {
   "cell_type": "code",
   "execution_count": null,
   "metadata": {},
   "outputs": [],
   "source": [
    "data = pd.read_json('songs_metadata.json')"
   ]
  },
  {
   "cell_type": "markdown",
   "metadata": {},
   "source": [
    "Check the first five rows to get an idea."
   ]
  },
  {
   "cell_type": "code",
   "execution_count": null,
   "metadata": {
    "scrolled": true
   },
   "outputs": [],
   "source": [
    "data.head()"
   ]
  },
  {
   "cell_type": "markdown",
   "metadata": {},
   "source": [
    "We observe a 'spotify' and 'lastfm' in front of some columns. Let's remove that."
   ]
  },
  {
   "cell_type": "code",
   "execution_count": null,
   "metadata": {},
   "outputs": [],
   "source": [
    "cols = data.columns"
   ]
  },
  {
   "cell_type": "code",
   "execution_count": null,
   "metadata": {},
   "outputs": [],
   "source": [
    "cols"
   ]
  },
  {
   "cell_type": "markdown",
   "metadata": {},
   "source": [
    "Remove Spotify from column names."
   ]
  },
  {
   "cell_type": "code",
   "execution_count": null,
   "metadata": {},
   "outputs": [],
   "source": [
    "# this splits when it finds '-' and gets the rest of the words\n",
    "# if it doesn't find '-' it gets the original word\n",
    "\n",
    "data.columns = ['_'.join(i.split('-')[1:]) if len(i.split('-')) > 1 else i for i in cols]"
   ]
  },
  {
   "cell_type": "markdown",
   "metadata": {},
   "source": [
    "Drop duplicate columns."
   ]
  },
  {
   "cell_type": "code",
   "execution_count": null,
   "metadata": {},
   "outputs": [],
   "source": [
    "data = data.drop(['trackName', 'artistName'], axis=1)"
   ]
  },
  {
   "cell_type": "markdown",
   "metadata": {},
   "source": [
    "Rename albumName column."
   ]
  },
  {
   "cell_type": "code",
   "execution_count": null,
   "metadata": {},
   "outputs": [],
   "source": [
    "data = data.rename(columns= {'albumName' : 'album'})"
   ]
  },
  {
   "cell_type": "markdown",
   "metadata": {},
   "source": [
    "Check for NaN values."
   ]
  },
  {
   "cell_type": "code",
   "execution_count": null,
   "metadata": {},
   "outputs": [],
   "source": [
    "data.isna().sum()"
   ]
  },
  {
   "cell_type": "markdown",
   "metadata": {},
   "source": [
    "Visualize some of them."
   ]
  },
  {
   "cell_type": "code",
   "execution_count": null,
   "metadata": {},
   "outputs": [],
   "source": [
    "data[data.isna().any(axis=1)]"
   ]
  },
  {
   "cell_type": "markdown",
   "metadata": {},
   "source": [
    "Drop NaN values (we could do other things such as fill them with zero, mean etc)."
   ]
  },
  {
   "cell_type": "code",
   "execution_count": null,
   "metadata": {},
   "outputs": [],
   "source": [
    "# We will use this one to have access to all the variables, no NaN values\n",
    "ds = data.dropna()\n",
    "\n",
    "ds.isna().sum()"
   ]
  },
  {
   "cell_type": "code",
   "execution_count": null,
   "metadata": {},
   "outputs": [],
   "source": [
    "# We can keep this dataset if we didn't plan to use the play/listener counts\n",
    "df = data.dropna(subset = ['popularity'])\n",
    "\n",
    "df.isna().sum()"
   ]
  },
  {
   "cell_type": "markdown",
   "metadata": {},
   "source": [
    "Extract the year and the duration in minutes from each song."
   ]
  },
  {
   "cell_type": "code",
   "execution_count": null,
   "metadata": {},
   "outputs": [],
   "source": [
    "year = ds.loc[:, 'date'].str.split('-').str[0].astype(int)\n",
    "minutes = ds.loc[:, 'duration_ms']/(1000*60)"
   ]
  },
  {
   "cell_type": "code",
   "execution_count": null,
   "metadata": {},
   "outputs": [],
   "source": [
    "ds = ds.drop('duration_ms', axis = 1)"
   ]
  },
  {
   "cell_type": "code",
   "execution_count": null,
   "metadata": {
    "scrolled": true
   },
   "outputs": [],
   "source": [
    "ds.loc[:, 'year'] = year\n",
    "\n",
    "ds.loc[:, 'duration_minutes'] = minutes"
   ]
  },
  {
   "cell_type": "markdown",
   "metadata": {},
   "source": [
    "Define some functions to apply to several columns."
   ]
  },
  {
   "cell_type": "code",
   "execution_count": null,
   "metadata": {},
   "outputs": [],
   "source": [
    "def find_tracks(dataset, feature_col, k=10, artist_col=0, song_col=1):\n",
    "    '''\n",
    "    Returns the top k (default = 10) tracks with their corresponding artists depending on the music feature of our choice.\n",
    "    \n",
    "    :parameter dataset: dataset to analyse.\n",
    "    :parameter feature_col: # position of column with the feature of choice.\n",
    "    :parameter k: number of top k tracks to return (default = 10).\n",
    "    :parameter artist_col: # position of column with artists (zero-indexed) e.g. 1st column -> 0.\n",
    "    :parameter song_col: # position of column with songs (zero-indexed) e.g. 2nd column -> 1.\n",
    "    :return: dataframe with the top k tracks together with their artists.\n",
    "    '''\n",
    "    \n",
    "    dataset = ds\n",
    "    ds_sort = ds.sort_values(by = ds.columns[feature_col], ascending = False).reset_index(drop=True)\n",
    "    return (ds_sort.iloc[:k, [song_col, artist_col]])\n",
    "\n",
    "def find_artists(dataset, feature_col, k=5):\n",
    "    '''\n",
    "    Returns the top k artists with the most tracks depending on the music feature of our choice (among the first 500).\n",
    "    \n",
    "    :parameter dataset: dataset to analyse.\n",
    "    :parameter feature_col: # position of column with the feature of choice.\n",
    "    :parameter k: number of top k artists to return (default = 5).\n",
    "    :return: dataframe with the top k artists together with their song counts and the chosen music feature.\n",
    "    '''\n",
    "    \n",
    "    dataset = ds\n",
    "    all_artists = find_tracks(ds, feature_col, 500).iloc[:,1].value_counts().rename_axis('Artist').reset_index(name ='Tracks')\n",
    "    all_artists['Feature'] = ds.columns[feature_col]\n",
    "    \n",
    "    return all_artists.iloc[:k, :]"
   ]
  },
  {
   "cell_type": "markdown",
   "metadata": {},
   "source": [
    "Let's loop for each music characheristic and print the first 10 tracks with that feature."
   ]
  },
  {
   "cell_type": "code",
   "execution_count": null,
   "metadata": {},
   "outputs": [],
   "source": [
    "names = ds.columns.values.tolist()"
   ]
  },
  {
   "cell_type": "code",
   "execution_count": null,
   "metadata": {},
   "outputs": [],
   "source": [
    "for i in range(8, 19):\n",
    "    print(f\"\\nThe top 10 tracks for {names[i]} are:\\n\\n{find_tracks(ds, i)}.\")"
   ]
  },
  {
   "cell_type": "markdown",
   "metadata": {},
   "source": [
    "We can use the second column of our output to count how many tracks with that feature each artist has."
   ]
  },
  {
   "cell_type": "code",
   "execution_count": null,
   "metadata": {},
   "outputs": [],
   "source": [
    "# example for danceability\n",
    "\n",
    "# gets the 2nd column for the top 500 tracks and counts the number of times each artist has appeared \n",
    "# finally it outputs the 5 artists with the most tracks with that characteristic\n",
    "\n",
    "\n",
    "find_tracks(ds, 8, 500).iloc[:,1].value_counts()[:5]"
   ]
  },
  {
   "cell_type": "markdown",
   "metadata": {},
   "source": [
    "That's what our find_artists function does (and also presents the music characteristic)."
   ]
  },
  {
   "cell_type": "code",
   "execution_count": null,
   "metadata": {},
   "outputs": [],
   "source": [
    "find_artists(ds, 8)"
   ]
  },
  {
   "cell_type": "markdown",
   "metadata": {},
   "source": [
    "Now we will use the defined function to search for 5 artists with the most tracks (among the first 500) with that feature."
   ]
  },
  {
   "cell_type": "code",
   "execution_count": null,
   "metadata": {},
   "outputs": [],
   "source": [
    "for i in range(8, 19):\n",
    "    print(f\"\\nThe top 5 artists for {names[i]} are:\\n\\n{find_artists(ds, i).iloc[:, :2]}.\")"
   ]
  },
  {
   "cell_type": "markdown",
   "metadata": {},
   "source": [
    "Plot these results for 4 music characteristics."
   ]
  },
  {
   "cell_type": "code",
   "execution_count": null,
   "metadata": {},
   "outputs": [],
   "source": [
    "dance = find_artists(ds, 8)\n",
    "energy = find_artists(ds, 9)\n",
    "loud = find_artists(ds, 11)\n",
    "acoustic = find_artists(ds, 14)\n",
    "\n",
    "top_artists = pd.concat([dance, energy, loud, acoustic])"
   ]
  },
  {
   "cell_type": "code",
   "execution_count": null,
   "metadata": {},
   "outputs": [],
   "source": [
    "fig = plt.figure(figsize = (28, 25))\n",
    "\n",
    "\n",
    "sns.barplot(x = top_artists['Artist'], y = top_artists['Tracks'], hue = top_artists['Feature'])\n",
    "plt.legend(fontsize = 21)\n",
    "plt.title('Artists with their characteristics', fontsize = 25)\n",
    "plt.xlabel('Artists', fontsize = 20)\n",
    "plt.ylabel('Number of songs', fontsize = 20)\n",
    "plt.xticks(fontsize = 17, rotation = 20)\n",
    "plt.yticks(fontsize = 17)\n",
    "\n",
    "plt.show()"
   ]
  },
  {
   "cell_type": "markdown",
   "metadata": {},
   "source": [
    "Now let's count the total songs for each artist.\n",
    "\n",
    "The code below aggregates the number of tracks for each artist and takes the first 20 artists with the most songs."
   ]
  },
  {
   "cell_type": "code",
   "execution_count": null,
   "metadata": {},
   "outputs": [],
   "source": [
    "aggr = ds.groupby('artist')['track'].agg(len).sort_values(ascending = False)[:20]\n",
    "\n",
    "aggr"
   ]
  },
  {
   "cell_type": "code",
   "execution_count": null,
   "metadata": {},
   "outputs": [],
   "source": [
    "fig = plt.figure(figsize = (30, 30))\n",
    "\n",
    "sns.barplot(x = aggr.index.values, y = aggr, palette=\"Blues_d\")\n",
    "\n",
    "plt.xlabel('Artist Name', fontsize = 23)\n",
    "plt.ylabel('Count of songs', fontsize = 23)\n",
    "plt.xticks(fontsize = 20, rotation = 30)\n",
    "plt.yticks(fontsize = 20)\n",
    "plt.title('Artist Name vs Count of songs', fontsize = 30)\n",
    "\n",
    "plt.show()"
   ]
  },
  {
   "cell_type": "markdown",
   "metadata": {},
   "source": [
    "Plot histograms for every variable."
   ]
  },
  {
   "cell_type": "code",
   "execution_count": null,
   "metadata": {},
   "outputs": [],
   "source": [
    "fig = ds.hist(figsize=(30, 30), xlabelsize = 15, ylabelsize = 15)\n",
    "\n",
    "[x.title.set_size(20) for x in fig.ravel()]\n",
    "\n",
    "plt.show()"
   ]
  },
  {
   "cell_type": "markdown",
   "metadata": {},
   "source": [
    "Plot positive correlations between features."
   ]
  },
  {
   "cell_type": "code",
   "execution_count": null,
   "metadata": {},
   "outputs": [],
   "source": [
    "f, ax = plt.subplots(figsize = (20, 15))\n",
    "\n",
    "ax = sns.heatmap(ds.corr(), vmin = 0, vmax = 1, annot = True)\n",
    "\n",
    "plt.autoscale()"
   ]
  },
  {
   "cell_type": "markdown",
   "metadata": {},
   "source": [
    "We observe that:\n",
    "\n",
    "- Valence is correlated with danceability and energy.\n",
    "- Loudness is correlated with energy.\n",
    "- Number of tracks in albums is correlated with track number (why?)."
   ]
  },
  {
   "cell_type": "markdown",
   "metadata": {},
   "source": [
    "Plot negative correlations between features."
   ]
  },
  {
   "cell_type": "code",
   "execution_count": null,
   "metadata": {},
   "outputs": [],
   "source": [
    "f, ax = plt.subplots(figsize = (20, 15))\n",
    "\n",
    "ax = sns.heatmap(ds.corr(), vmin = -1, vmax = 0, annot = True)\n",
    "\n",
    "plt.autoscale()"
   ]
  },
  {
   "cell_type": "markdown",
   "metadata": {},
   "source": [
    "We observe that:\n",
    "\n",
    "- Popularity is negatively correlated with acousticness (and less with instrumentalness).\n",
    "- Acousticness is negatively correlated with energy, danceability, loudness, duration in minutes (and popularity)."
   ]
  },
  {
   "cell_type": "markdown",
   "metadata": {},
   "source": [
    "Why is track number and number of tracks correlated?"
   ]
  },
  {
   "cell_type": "code",
   "execution_count": null,
   "metadata": {},
   "outputs": [],
   "source": [
    "# partial answer\n",
    "\n",
    "# number of instances that have 1 track in album (and track number = 1) -> singles\n",
    "\n",
    "print(len(data[(data['track_no']==1.0) & (data['num_of_tracks_in_album']==1.0)]))"
   ]
  },
  {
   "cell_type": "markdown",
   "metadata": {},
   "source": [
    "Let's plot a scatterplot/regplot for the biggest correlations e.g. loudness-energy, valence-danceability, acousticness-energy."
   ]
  },
  {
   "cell_type": "code",
   "execution_count": null,
   "metadata": {},
   "outputs": [],
   "source": [
    "# Loudness vs Energy (correlation  = 0.74)\n",
    "\n",
    "plt.figure(figsize=(18, 15))\n",
    "\n",
    "sns.regplot(x = ds['loudness'], y = ds['energy'])\n",
    "\n",
    "plt.xlabel('Loudness', fontsize = 14)\n",
    "plt.ylabel('Energy', fontsize = 14)\n",
    "plt.xticks(fontsize = 11)\n",
    "plt.yticks(fontsize = 11)\n",
    "plt.title('Loudness vs Energy', fontsize = 18)\n",
    "\n",
    "plt.show()"
   ]
  },
  {
   "cell_type": "code",
   "execution_count": null,
   "metadata": {},
   "outputs": [],
   "source": [
    "# Valence vs Danceability (correlation  = 0.54)\n",
    "\n",
    "plt.figure(figsize=(18, 15))\n",
    "\n",
    "sns.regplot(x = ds['valence'], y = ds['danceability'])\n",
    "\n",
    "plt.xlabel('Valence', fontsize = 14)\n",
    "plt.ylabel('Danceability', fontsize = 14)\n",
    "plt.xticks(fontsize = 11)\n",
    "plt.yticks(fontsize = 11)\n",
    "plt.title('Valence vs Danceability', fontsize = 18)\n",
    "\n",
    "plt.show()"
   ]
  },
  {
   "cell_type": "code",
   "execution_count": null,
   "metadata": {},
   "outputs": [],
   "source": [
    "# Acousticness vs Energy (correlation = - 0.7)\n",
    "\n",
    "plt.figure(figsize=(18, 15))\n",
    "\n",
    "sns.regplot(x = ds['acousticness'], y = ds['energy'])\n",
    "\n",
    "plt.xlabel('Acousticness', fontsize = 14)\n",
    "plt.ylabel('Energy', fontsize = 14)\n",
    "plt.xticks(fontsize = 11)\n",
    "plt.yticks(fontsize = 11)\n",
    "plt.title('Acousticness vs Energy', fontsize = 18)\n",
    "\n",
    "plt.show()"
   ]
  },
  {
   "cell_type": "markdown",
   "metadata": {},
   "source": [
    "Let's see how these characteristics have changed over the years"
   ]
  },
  {
   "cell_type": "code",
   "execution_count": null,
   "metadata": {},
   "outputs": [],
   "source": [
    "plt.figure(figsize=(18, 15))\n",
    "sns.set()\n",
    "\n",
    "columns = [\"acousticness\",\"danceability\",\"energy\",\"speechiness\",\"liveness\",\"valence\"]\n",
    "for col in columns:\n",
    "    x = ds.groupby(\"year\")[col].mean()\n",
    "    ax= sns.lineplot(x=x.index, y=x, label=col)\n",
    "\n",
    "ax.set_title('Audio characteristics over year', fontsize = 16)\n",
    "ax.set_ylabel('Measure', fontsize = 14)\n",
    "ax.set_xlabel('Year', fontsize = 14)\n",
    "plt.legend(fontsize= 14)\n",
    "plt.xlim(1940, 2020)\n",
    "\n",
    "plt.show()"
   ]
  },
  {
   "cell_type": "markdown",
   "metadata": {},
   "source": [
    "Define a feature set and try to predict our target variable"
   ]
  },
  {
   "cell_type": "code",
   "execution_count": null,
   "metadata": {},
   "outputs": [],
   "source": [
    "X = ds.iloc[:, np.r_[8:19, 28]]\n",
    "\n",
    "Y = ds['popularity']"
   ]
  },
  {
   "cell_type": "markdown",
   "metadata": {},
   "source": [
    "According to the previous correlations we have an idea for the characteristics that make music popular e.g. energy/loudness vs acousticness/instrumentalness.\n",
    "\n",
    "Let's fit a Random Forest Regressor to extract the most important features when predicting track popularity."
   ]
  },
  {
   "cell_type": "code",
   "execution_count": null,
   "metadata": {
    "scrolled": false
   },
   "outputs": [],
   "source": [
    "forest = RandomForestRegressor(n_estimators = 100, random_state = 42)\n",
    "forest.fit(X, Y)\n",
    "\n",
    "importances = forest.feature_importances_\n",
    "std = np.std([tree.feature_importances_ for tree in forest.estimators_],\n",
    "             axis=0)\n",
    "indices = np.argsort(importances)[::-1]\n",
    "\n",
    "# Print the feature ranking\n",
    "print(\"Feature ranking:\")\n",
    "\n",
    "for f in range(X.shape[1]):\n",
    "    print(f\"{f+1}. feature {indices[f]}: {X.columns[indices[f]]} ({importances[indices[f]]})\")\n",
    "\n",
    "# Plot the feature importances of the forest\n",
    "plt.figure(figsize = (30,20))\n",
    "plt.title(\"Feature importances\", fontsize = 25)\n",
    "plt.bar(range(X.shape[1]), importances[indices],\n",
    "       color=\"r\", yerr = std[indices], align=\"center\")\n",
    "plt.xticks(range(X.shape[1]), X.columns[indices], fontsize = 18, rotation = 20)\n",
    "plt.yticks(fontsize = 18)\n",
    "plt.xlim([-1, X.shape[1]])\n",
    "plt.show()"
   ]
  },
  {
   "cell_type": "markdown",
   "metadata": {},
   "source": [
    "We will use the first 6 important features from Random Forest and danceability from our correlation analysis."
   ]
  },
  {
   "cell_type": "code",
   "execution_count": null,
   "metadata": {},
   "outputs": [],
   "source": [
    "X_new = X.iloc[:, np.r_[6, 11, 7, 3, 8, 1, 0]]"
   ]
  },
  {
   "cell_type": "code",
   "execution_count": null,
   "metadata": {
    "scrolled": true
   },
   "outputs": [],
   "source": [
    "quantile_list = [0.0, 0.50, 1.0]\n",
    "quantiles = ds['popularity'].quantile(quantile_list)\n",
    "\n",
    "labels = [0, 1]\n",
    "ds['labels'] = pd.cut(ds['popularity'], quantiles, labels=labels, include_lowest = True)"
   ]
  },
  {
   "cell_type": "code",
   "execution_count": null,
   "metadata": {},
   "outputs": [],
   "source": [
    "Y_new  = ds['labels']"
   ]
  },
  {
   "cell_type": "markdown",
   "metadata": {},
   "source": [
    "Evaluate common classifiers with 10-fold cross-validation."
   ]
  },
  {
   "cell_type": "code",
   "execution_count": null,
   "metadata": {},
   "outputs": [],
   "source": [
    "models = []\n",
    "models.append(('LR', LogisticRegression(solver = 'lbfgs', max_iter=500)))\n",
    "models.append(('KNN', KNeighborsClassifier()))\n",
    "models.append(('SVM', SVC(gamma = 'auto')))\n",
    "models.append(('Random Forest', RandomForestClassifier(n_estimators= 100, random_state = 42)))\n",
    "\n",
    "# evaluate each model in turn\n",
    "results = []\n",
    "names = []\n",
    "\n",
    "for name, model in models:\n",
    "    kfold = model_selection.KFold(n_splits=10, random_state = 42)\n",
    "    cv_results = model_selection.cross_val_score(model, X_new, Y_new, cv=kfold, scoring='accuracy')\n",
    "    results.append(cv_results)\n",
    "    names.append(name)\n",
    "    print(f\"The mean accuracy of {name} is {cv_results.mean()} with standard deviation {cv_results.std()}\")"
   ]
  }
 ],
 "metadata": {
  "kernelspec": {
   "display_name": "Python 3",
   "language": "python",
   "name": "python3"
  },
  "language_info": {
   "codemirror_mode": {
    "name": "ipython",
    "version": 3
   },
   "file_extension": ".py",
   "mimetype": "text/x-python",
   "name": "python",
   "nbconvert_exporter": "python",
   "pygments_lexer": "ipython3",
   "version": "3.7.4"
  }
 },
 "nbformat": 4,
 "nbformat_minor": 2
}
